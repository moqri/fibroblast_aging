{
 "cells": [
  {
   "cell_type": "code",
   "execution_count": 1,
   "metadata": {},
   "outputs": [],
   "source": [
    "import pandas as pd\n",
    "import seaborn as sn\n",
    "import numpy as np\n",
    "import matplotlib.pyplot as plt\n",
    "from matplotlib import rc\n",
    "from sklearn.decomposition import PCA\n",
    "data='/oak/stanford/groups/smontgom/moqri/data/rna/'\n",
    "fib_file='https://ftp.ncbi.nlm.nih.gov/geo/series/GSE113nnn/GSE113957/suppl/GSE113957_fpkm.txt.gz'\n",
    "# stem \n",
    "#https://www.ncbi.nlm.nih.gov/geo/query/acc.cgi?acc=GSE73211\n",
    "#https://www.ncbi.nlm.nih.gov/geo/query/acc.cgi?acc=GSE94267\n",
    "#https://www.ncbi.nlm.nih.gov/geo/query/acc.cgi?acc=GSE138170\n",
    "#https://www.ncbi.nlm.nih.gov/geo/query/acc.cgi?acc=GSE126488 "
   ]
  },
  {
   "cell_type": "code",
   "execution_count": 2,
   "metadata": {},
   "outputs": [
    {
     "data": {
      "text/plain": [
       "(27142, 150)"
      ]
     },
     "execution_count": 2,
     "metadata": {},
     "output_type": "execute_result"
    }
   ],
   "source": [
    "fib=pd.read_table(fib_file,index_col=0)\n",
    "fib.shape"
   ]
  },
  {
   "cell_type": "code",
   "execution_count": 3,
   "metadata": {},
   "outputs": [
    {
     "data": {
      "text/plain": [
       "(27142, 143)"
      ]
     },
     "execution_count": 3,
     "metadata": {},
     "output_type": "execute_result"
    }
   ],
   "source": [
    "fib=fib.iloc[:,7:]\n",
    "fib.shape"
   ]
  },
  {
   "cell_type": "code",
   "execution_count": 4,
   "metadata": {},
   "outputs": [
    {
     "data": {
      "text/plain": [
       "101_19yr_Female_Caucasian    332400.032\n",
       "dtype: float64"
      ]
     },
     "execution_count": 4,
     "metadata": {},
     "output_type": "execute_result"
    }
   ],
   "source": [
    "fib.sum().head(1)"
   ]
  },
  {
   "cell_type": "code",
   "execution_count": 5,
   "metadata": {},
   "outputs": [],
   "source": [
    "fib=(fib/fib.sum())*10**6"
   ]
  },
  {
   "cell_type": "code",
   "execution_count": 6,
   "metadata": {},
   "outputs": [
    {
     "data": {
      "text/plain": [
       "(27142, 141)"
      ]
     },
     "execution_count": 6,
     "metadata": {},
     "output_type": "execute_result"
    }
   ],
   "source": [
    "HGPS=['139_8_Female-HGPS_Caucasian','141_8_Male-HGPS_Unknown']\n",
    "mos=['197_2yr3mos_F_Unknown','198_3yr9mos_F_Unknown','199_4yr8mos_F_Unknown','200_8yr6mos_M_Unknown','201_6ys11mos_F_Unknown','202_5yr0mos_F_Unknown','203_8yr10mos_M_Unknown','204_3yr0mos_F_Unknown']\n",
    "fib=fib[[c for c in fib.columns if c not in HGPS]]\n",
    "fib.shape"
   ]
  },
  {
   "cell_type": "code",
   "execution_count": 7,
   "metadata": {},
   "outputs": [
    {
     "name": "stderr",
     "output_type": "stream",
     "text": [
      "<ipython-input-7-19116cbfcf7f>:5: FutureWarning: In a future version of pandas all arguments of DataFrame.drop except for the argument 'labels' will be keyword-only\n",
      "  df=fib.merge(df[['Gene name','ref']],left_index=True,right_on='ref').drop('ref',1)\n"
     ]
    },
    {
     "data": {
      "text/plain": [
       "(27493, 142)"
      ]
     },
     "execution_count": 7,
     "metadata": {},
     "output_type": "execute_result"
    }
   ],
   "source": [
    "df=pd.read_table('../data/rna/refseq.txt',index_col=0)\n",
    "df['ref']=(df['RefSeq mRNA ID'].astype(str)+df['RefSeq ncRNA ID'].astype(str))\n",
    "df['ref']=df.ref.str.strip('nan')\n",
    "df=df[df.ref!='']\n",
    "df=fib.merge(df[['Gene name','ref']],left_index=True,right_on='ref').drop('ref',1)\n",
    "df.shape"
   ]
  },
  {
   "cell_type": "code",
   "execution_count": 9,
   "metadata": {},
   "outputs": [
    {
     "data": {
      "text/html": [
       "<div>\n",
       "<style scoped>\n",
       "    .dataframe tbody tr th:only-of-type {\n",
       "        vertical-align: middle;\n",
       "    }\n",
       "\n",
       "    .dataframe tbody tr th {\n",
       "        vertical-align: top;\n",
       "    }\n",
       "\n",
       "    .dataframe thead th {\n",
       "        text-align: right;\n",
       "    }\n",
       "</style>\n",
       "<table border=\"1\" class=\"dataframe\">\n",
       "  <thead>\n",
       "    <tr style=\"text-align: right;\">\n",
       "      <th></th>\n",
       "      <th>101_19yr_Female_Caucasian</th>\n",
       "      <th>102_19yr_Male_Caucasian</th>\n",
       "      <th>103_19yr_Male_Caucasian</th>\n",
       "      <th>104_19yr_Male_Caucasian</th>\n",
       "      <th>105_20yr_Male_Caucasian</th>\n",
       "      <th>106_20yr_Female_Caucasian</th>\n",
       "      <th>107_31yr_Female_Caucasian</th>\n",
       "      <th>108_31_female_Caucasian</th>\n",
       "      <th>109_32_male_Unknown</th>\n",
       "      <th>110_32_female_BlackPuertoRican</th>\n",
       "      <th>...</th>\n",
       "      <th>89_9yr_Female_Black</th>\n",
       "      <th>90_10yr_Male_Black</th>\n",
       "      <th>91_10yr_Male_Caucasian</th>\n",
       "      <th>92_11_female_Caucasian</th>\n",
       "      <th>93_11_female_Caucasian</th>\n",
       "      <th>94_12_male_Caucasian</th>\n",
       "      <th>95_13yr_Male_WhiTEEASTINDIAN</th>\n",
       "      <th>97_16yr_Female_Unknown</th>\n",
       "      <th>98_17yr_Male_Caucasian</th>\n",
       "      <th>99_17yr_Male_Caucasian</th>\n",
       "    </tr>\n",
       "    <tr>\n",
       "      <th>Transcript ID</th>\n",
       "      <th></th>\n",
       "      <th></th>\n",
       "      <th></th>\n",
       "      <th></th>\n",
       "      <th></th>\n",
       "      <th></th>\n",
       "      <th></th>\n",
       "      <th></th>\n",
       "      <th></th>\n",
       "      <th></th>\n",
       "      <th></th>\n",
       "      <th></th>\n",
       "      <th></th>\n",
       "      <th></th>\n",
       "      <th></th>\n",
       "      <th></th>\n",
       "      <th></th>\n",
       "      <th></th>\n",
       "      <th></th>\n",
       "      <th></th>\n",
       "      <th></th>\n",
       "    </tr>\n",
       "  </thead>\n",
       "  <tbody>\n",
       "    <tr>\n",
       "      <th>NM_173803</th>\n",
       "      <td>0.400120</td>\n",
       "      <td>0.667841</td>\n",
       "      <td>0.165708</td>\n",
       "      <td>0.200807</td>\n",
       "      <td>0.483857</td>\n",
       "      <td>0.599565</td>\n",
       "      <td>0.562170</td>\n",
       "      <td>0.459354</td>\n",
       "      <td>0.172140</td>\n",
       "      <td>0.073533</td>\n",
       "      <td>...</td>\n",
       "      <td>0.158106</td>\n",
       "      <td>0.181941</td>\n",
       "      <td>0.644690</td>\n",
       "      <td>0.202200</td>\n",
       "      <td>0.440449</td>\n",
       "      <td>0.649846</td>\n",
       "      <td>0.117806</td>\n",
       "      <td>0.610813</td>\n",
       "      <td>0.445741</td>\n",
       "      <td>0.000000</td>\n",
       "    </tr>\n",
       "    <tr>\n",
       "      <th>NM_014423</th>\n",
       "      <td>51.083028</td>\n",
       "      <td>52.586977</td>\n",
       "      <td>49.730879</td>\n",
       "      <td>46.687613</td>\n",
       "      <td>52.334062</td>\n",
       "      <td>58.940952</td>\n",
       "      <td>42.375363</td>\n",
       "      <td>67.201403</td>\n",
       "      <td>61.197386</td>\n",
       "      <td>48.316933</td>\n",
       "      <td>...</td>\n",
       "      <td>40.390506</td>\n",
       "      <td>38.143046</td>\n",
       "      <td>47.659765</td>\n",
       "      <td>25.985566</td>\n",
       "      <td>44.847025</td>\n",
       "      <td>48.899401</td>\n",
       "      <td>45.682858</td>\n",
       "      <td>50.272301</td>\n",
       "      <td>24.669356</td>\n",
       "      <td>37.951427</td>\n",
       "    </tr>\n",
       "    <tr>\n",
       "      <th>NM_001103167</th>\n",
       "      <td>1.164260</td>\n",
       "      <td>0.526748</td>\n",
       "      <td>1.258155</td>\n",
       "      <td>0.450294</td>\n",
       "      <td>0.781615</td>\n",
       "      <td>1.183836</td>\n",
       "      <td>0.868013</td>\n",
       "      <td>0.776895</td>\n",
       "      <td>1.064937</td>\n",
       "      <td>1.841261</td>\n",
       "      <td>...</td>\n",
       "      <td>1.064394</td>\n",
       "      <td>1.578778</td>\n",
       "      <td>2.998697</td>\n",
       "      <td>0.909902</td>\n",
       "      <td>1.193004</td>\n",
       "      <td>0.980842</td>\n",
       "      <td>1.396432</td>\n",
       "      <td>1.152760</td>\n",
       "      <td>1.138276</td>\n",
       "      <td>1.486701</td>\n",
       "    </tr>\n",
       "    <tr>\n",
       "      <th>NR_134623</th>\n",
       "      <td>0.000000</td>\n",
       "      <td>0.000000</td>\n",
       "      <td>0.000000</td>\n",
       "      <td>0.000000</td>\n",
       "      <td>0.279148</td>\n",
       "      <td>0.000000</td>\n",
       "      <td>0.000000</td>\n",
       "      <td>0.000000</td>\n",
       "      <td>0.000000</td>\n",
       "      <td>0.000000</td>\n",
       "      <td>...</td>\n",
       "      <td>0.211749</td>\n",
       "      <td>0.000000</td>\n",
       "      <td>0.000000</td>\n",
       "      <td>0.000000</td>\n",
       "      <td>0.000000</td>\n",
       "      <td>0.000000</td>\n",
       "      <td>0.000000</td>\n",
       "      <td>0.000000</td>\n",
       "      <td>0.000000</td>\n",
       "      <td>0.000000</td>\n",
       "    </tr>\n",
       "    <tr>\n",
       "      <th>NR_024490</th>\n",
       "      <td>1.883273</td>\n",
       "      <td>2.197917</td>\n",
       "      <td>3.482941</td>\n",
       "      <td>2.084133</td>\n",
       "      <td>2.499926</td>\n",
       "      <td>2.101538</td>\n",
       "      <td>3.760420</td>\n",
       "      <td>4.214346</td>\n",
       "      <td>3.609114</td>\n",
       "      <td>3.238385</td>\n",
       "      <td>...</td>\n",
       "      <td>2.456294</td>\n",
       "      <td>2.823020</td>\n",
       "      <td>2.750284</td>\n",
       "      <td>2.499422</td>\n",
       "      <td>3.182316</td>\n",
       "      <td>3.164204</td>\n",
       "      <td>4.286988</td>\n",
       "      <td>3.012146</td>\n",
       "      <td>1.871104</td>\n",
       "      <td>2.386831</td>\n",
       "    </tr>\n",
       "  </tbody>\n",
       "</table>\n",
       "<p>5 rows × 141 columns</p>\n",
       "</div>"
      ],
      "text/plain": [
       "               101_19yr_Female_Caucasian  102_19yr_Male_Caucasian  \\\n",
       "Transcript ID                                                       \n",
       "NM_173803                       0.400120                 0.667841   \n",
       "NM_014423                      51.083028                52.586977   \n",
       "NM_001103167                    1.164260                 0.526748   \n",
       "NR_134623                       0.000000                 0.000000   \n",
       "NR_024490                       1.883273                 2.197917   \n",
       "\n",
       "               103_19yr_Male_Caucasian  104_19yr_Male_Caucasian  \\\n",
       "Transcript ID                                                     \n",
       "NM_173803                     0.165708                 0.200807   \n",
       "NM_014423                    49.730879                46.687613   \n",
       "NM_001103167                  1.258155                 0.450294   \n",
       "NR_134623                     0.000000                 0.000000   \n",
       "NR_024490                     3.482941                 2.084133   \n",
       "\n",
       "               105_20yr_Male_Caucasian  106_20yr_Female_Caucasian  \\\n",
       "Transcript ID                                                       \n",
       "NM_173803                     0.483857                   0.599565   \n",
       "NM_014423                    52.334062                  58.940952   \n",
       "NM_001103167                  0.781615                   1.183836   \n",
       "NR_134623                     0.279148                   0.000000   \n",
       "NR_024490                     2.499926                   2.101538   \n",
       "\n",
       "               107_31yr_Female_Caucasian  108_31_female_Caucasian  \\\n",
       "Transcript ID                                                       \n",
       "NM_173803                       0.562170                 0.459354   \n",
       "NM_014423                      42.375363                67.201403   \n",
       "NM_001103167                    0.868013                 0.776895   \n",
       "NR_134623                       0.000000                 0.000000   \n",
       "NR_024490                       3.760420                 4.214346   \n",
       "\n",
       "               109_32_male_Unknown  110_32_female_BlackPuertoRican  ...  \\\n",
       "Transcript ID                                                       ...   \n",
       "NM_173803                 0.172140                        0.073533  ...   \n",
       "NM_014423                61.197386                       48.316933  ...   \n",
       "NM_001103167              1.064937                        1.841261  ...   \n",
       "NR_134623                 0.000000                        0.000000  ...   \n",
       "NR_024490                 3.609114                        3.238385  ...   \n",
       "\n",
       "               89_9yr_Female_Black  90_10yr_Male_Black  \\\n",
       "Transcript ID                                            \n",
       "NM_173803                 0.158106            0.181941   \n",
       "NM_014423                40.390506           38.143046   \n",
       "NM_001103167              1.064394            1.578778   \n",
       "NR_134623                 0.211749            0.000000   \n",
       "NR_024490                 2.456294            2.823020   \n",
       "\n",
       "               91_10yr_Male_Caucasian  92_11_female_Caucasian  \\\n",
       "Transcript ID                                                   \n",
       "NM_173803                    0.644690                0.202200   \n",
       "NM_014423                   47.659765               25.985566   \n",
       "NM_001103167                 2.998697                0.909902   \n",
       "NR_134623                    0.000000                0.000000   \n",
       "NR_024490                    2.750284                2.499422   \n",
       "\n",
       "               93_11_female_Caucasian  94_12_male_Caucasian  \\\n",
       "Transcript ID                                                 \n",
       "NM_173803                    0.440449              0.649846   \n",
       "NM_014423                   44.847025             48.899401   \n",
       "NM_001103167                 1.193004              0.980842   \n",
       "NR_134623                    0.000000              0.000000   \n",
       "NR_024490                    3.182316              3.164204   \n",
       "\n",
       "               95_13yr_Male_WhiTEEASTINDIAN  97_16yr_Female_Unknown  \\\n",
       "Transcript ID                                                         \n",
       "NM_173803                          0.117806                0.610813   \n",
       "NM_014423                         45.682858               50.272301   \n",
       "NM_001103167                       1.396432                1.152760   \n",
       "NR_134623                          0.000000                0.000000   \n",
       "NR_024490                          4.286988                3.012146   \n",
       "\n",
       "               98_17yr_Male_Caucasian  99_17yr_Male_Caucasian  \n",
       "Transcript ID                                                  \n",
       "NM_173803                    0.445741                0.000000  \n",
       "NM_014423                   24.669356               37.951427  \n",
       "NM_001103167                 1.138276                1.486701  \n",
       "NR_134623                    0.000000                0.000000  \n",
       "NR_024490                    1.871104                2.386831  \n",
       "\n",
       "[5 rows x 141 columns]"
      ]
     },
     "execution_count": 9,
     "metadata": {},
     "output_type": "execute_result"
    }
   ],
   "source": [
    "fib.head()"
   ]
  },
  {
   "cell_type": "code",
   "execution_count": 18,
   "metadata": {},
   "outputs": [
    {
     "data": {
      "text/plain": [
       "(27493, 142)"
      ]
     },
     "execution_count": 18,
     "metadata": {},
     "output_type": "execute_result"
    }
   ],
   "source": [
    "#df=df[df.median(1)>1]\n",
    "df.shape"
   ]
  },
  {
   "cell_type": "code",
   "execution_count": 19,
   "metadata": {},
   "outputs": [],
   "source": [
    "#fib=df.groupby('Gene name').sum()\n",
    "fib=df.drop('Gene name',1)\n",
    "ages=fib.columns.str.split('_').str[1].str.strip('yr').str.strip('YR').tolist()\n",
    "ages=[int(a[0]) if 'yr' in a or 'ys' in a else int(a) for a in ages]\n",
    "fib=fib.T\n",
    "fib=np.log10(fib+1)"
   ]
  },
  {
   "cell_type": "code",
   "execution_count": 20,
   "metadata": {},
   "outputs": [],
   "source": [
    "fib['age']=ages"
   ]
  },
  {
   "cell_type": "code",
   "execution_count": 21,
   "metadata": {},
   "outputs": [],
   "source": [
    "fib['age_group']=pd.qcut(fib.age,3)"
   ]
  },
  {
   "cell_type": "code",
   "execution_count": 22,
   "metadata": {},
   "outputs": [],
   "source": [
    "fl=fib[fib.age<fib.age.quantile(1/3)].median()\n",
    "fh=fib[fib.age>fib.age.quantile(2/3)].median()\n",
    "fm=fib.median()\n",
    "df=pd.concat([fl,fm,fh],1)\n",
    "df.columns=['low','mid','high']"
   ]
  },
  {
   "cell_type": "code",
   "execution_count": 23,
   "metadata": {},
   "outputs": [
    {
     "data": {
      "text/plain": [
       "(27494, 3)"
      ]
     },
     "execution_count": 23,
     "metadata": {},
     "output_type": "execute_result"
    }
   ],
   "source": [
    "df.shape"
   ]
  },
  {
   "cell_type": "code",
   "execution_count": 24,
   "metadata": {},
   "outputs": [],
   "source": [
    "#df=df.drop(df.drop('age')[((df.drop('age').high-df.drop('age').low)>-.1) & ((df.drop('age').high-df.drop('age').low)<.1)].index)"
   ]
  },
  {
   "cell_type": "code",
   "execution_count": 25,
   "metadata": {},
   "outputs": [
    {
     "data": {
      "text/html": [
       "<div>\n",
       "<style scoped>\n",
       "    .dataframe tbody tr th:only-of-type {\n",
       "        vertical-align: middle;\n",
       "    }\n",
       "\n",
       "    .dataframe tbody tr th {\n",
       "        vertical-align: top;\n",
       "    }\n",
       "\n",
       "    .dataframe thead th {\n",
       "        text-align: right;\n",
       "    }\n",
       "</style>\n",
       "<table border=\"1\" class=\"dataframe\">\n",
       "  <thead>\n",
       "    <tr style=\"text-align: right;\">\n",
       "      <th></th>\n",
       "      <th>Name</th>\n",
       "      <th>Length</th>\n",
       "      <th>EffectiveLength</th>\n",
       "      <th>TPM</th>\n",
       "      <th>NumReads</th>\n",
       "    </tr>\n",
       "    <tr>\n",
       "      <th>Name</th>\n",
       "      <th></th>\n",
       "      <th></th>\n",
       "      <th></th>\n",
       "      <th></th>\n",
       "      <th></th>\n",
       "    </tr>\n",
       "  </thead>\n",
       "  <tbody>\n",
       "    <tr>\n",
       "      <th>ENST00000631435</th>\n",
       "      <td>ENST00000631435.1</td>\n",
       "      <td>12</td>\n",
       "      <td>12.0</td>\n",
       "      <td>0.0</td>\n",
       "      <td>0.0</td>\n",
       "    </tr>\n",
       "  </tbody>\n",
       "</table>\n",
       "</div>"
      ],
      "text/plain": [
       "                              Name  Length  EffectiveLength  TPM  NumReads\n",
       "Name                                                                      \n",
       "ENST00000631435  ENST00000631435.1      12             12.0  0.0       0.0"
      ]
     },
     "execution_count": 25,
     "metadata": {},
     "output_type": "execute_result"
    }
   ],
   "source": [
    "h1=pd.read_table('../data/rna/h1.txt')\n",
    "h1.index=h1.Name.str.split('.').str[0]\n",
    "h1.head(1)"
   ]
  },
  {
   "cell_type": "code",
   "execution_count": 26,
   "metadata": {},
   "outputs": [],
   "source": [
    "h9=pd.read_table('../data/rna/h9.txt')\n",
    "h9.index=h9.Name.str.split('.').str[0]"
   ]
  },
  {
   "cell_type": "code",
   "execution_count": 27,
   "metadata": {},
   "outputs": [
    {
     "data": {
      "text/plain": [
       "357746.961377"
      ]
     },
     "execution_count": 27,
     "metadata": {},
     "output_type": "execute_result"
    }
   ],
   "source": [
    "h1.loc[h1.index.intersection(fib.columns)].TPM.sum()"
   ]
  },
  {
   "cell_type": "code",
   "execution_count": 28,
   "metadata": {},
   "outputs": [],
   "source": [
    "h1['h1']=h1.TPM\n",
    "h9['h9']=h9.TPM\n",
    "h=h1.merge(h9,left_index=True, right_index=True)"
   ]
  },
  {
   "cell_type": "code",
   "execution_count": 29,
   "metadata": {},
   "outputs": [
    {
     "data": {
      "text/plain": [
       "<AxesSubplot:xlabel='h1', ylabel='h9'>"
      ]
     },
     "execution_count": 29,
     "metadata": {},
     "output_type": "execute_result"
    },
    {
     "data": {
      "image/png": "[encoded data removed]",
      "text/plain": [
       "<Figure size 432x288 with 1 Axes>"
      ]
     },
     "metadata": {
      "needs_background": "light"
     },
     "output_type": "display_data"
    }
   ],
   "source": [
    "h.plot.scatter('h1','h9')"
   ]
  },
  {
   "cell_type": "code",
   "execution_count": 30,
   "metadata": {},
   "outputs": [
    {
     "data": {
      "text/plain": [
       "<AxesSubplot:xlabel='h1', ylabel='h9'>"
      ]
     },
     "execution_count": 30,
     "metadata": {},
     "output_type": "execute_result"
    },
    {
     "data": {
      "image/png": "[encoded data removed]",
      "text/plain": [
       "<Figure size 432x288 with 1 Axes>"
      ]
     },
     "metadata": {
      "needs_background": "light"
     },
     "output_type": "display_data"
    }
   ],
   "source": [
    "np.log10(h[['h1','h9']]).plot.scatter('h1','h9')"
   ]
  },
  {
   "cell_type": "code",
   "execution_count": 31,
   "metadata": {},
   "outputs": [],
   "source": [
    "h['TPM']=h[['h1','h9']].mean(1)"
   ]
  },
  {
   "cell_type": "code",
   "execution_count": 32,
   "metadata": {},
   "outputs": [
    {
     "name": "stderr",
     "output_type": "stream",
     "text": [
      "/home/moqri/anaconda3/envs/stem/lib/python3.9/site-packages/scipy/stats/stats.py:4264: SpearmanRConstantInputWarning: An input array is constant; the correlation coefficent is not defined.\n",
      "  warnings.warn(SpearmanRConstantInputWarning())\n"
     ]
    },
    {
     "data": {
      "text/plain": [
       "Transcript stable ID\n",
       "ENST00000310624   -0.734252\n",
       "ENST00000422318   -0.730498\n",
       "ENST00000398606   -0.702729\n",
       "ENST00000370322   -0.683259\n",
       "ENST00000435120   -0.674680\n",
       "                     ...   \n",
       "ENST00000372868    0.677480\n",
       "ENST00000394236    0.677587\n",
       "ENST00000343267    0.689976\n",
       "ENST00000295317    0.709702\n",
       "age                1.000000\n",
       "Length: 23228, dtype: float64"
      ]
     },
     "execution_count": 32,
     "metadata": {},
     "output_type": "execute_result"
    }
   ],
   "source": [
    "cor=fib.corrwith(fib.age,method='spearman')\n",
    "cor.dropna().sort_values()"
   ]
  },
  {
   "cell_type": "code",
   "execution_count": 33,
   "metadata": {},
   "outputs": [],
   "source": [
    "corp=cor.drop('age').sort_values().dropna().tail(100)"
   ]
  },
  {
   "cell_type": "code",
   "execution_count": 134,
   "metadata": {},
   "outputs": [],
   "source": [
    "corn=cor.drop('age').sort_values().dropna().head(200)"
   ]
  },
  {
   "cell_type": "code",
   "execution_count": 135,
   "metadata": {},
   "outputs": [
    {
     "name": "stdout",
     "output_type": "stream",
     "text": [
      "(173531, 41)\n"
     ]
    },
    {
     "data": {
      "text/plain": [
       "GSM3602466    0.670902\n",
       "GSM3602469    0.690728\n",
       "GSM3602468    0.732030\n",
       "GSM3602467    0.792003\n",
       "GSM3602463    0.831766\n",
       "GSM4127839    0.833526\n",
       "GSM4127827    0.880358\n",
       "GSM4127830    0.885061\n",
       "GSM4127828    0.886676\n",
       "GSM4127844    0.890749\n",
       "GSM3602461    0.898970\n",
       "GSM3602462    0.900422\n",
       "dtype: float64"
      ]
     },
     "execution_count": 135,
     "metadata": {},
     "output_type": "execute_result"
    }
   ],
   "source": [
    "h=pd.read_feather(data+'hsr.ft')\n",
    "print(h.shape)\n",
    "h=h.set_index(h['index']).drop('index',1)\n",
    "h.index=h.index.str.split('.').str[0]\n",
    "h.corr().mean().sort_values()[:12]"
   ]
  },
  {
   "cell_type": "code",
   "execution_count": 136,
   "metadata": {},
   "outputs": [
    {
     "data": {
      "text/plain": [
       "(173531, 29)"
      ]
     },
     "execution_count": 136,
     "metadata": {},
     "output_type": "execute_result"
    }
   ],
   "source": [
    "h=h[h.corr().mean().sort_values()[11:].index]\n",
    "h.shape"
   ]
  },
  {
   "cell_type": "code",
   "execution_count": 137,
   "metadata": {},
   "outputs": [
    {
     "data": {
      "text/plain": [
       "<AxesSubplot:>"
      ]
     },
     "execution_count": 137,
     "metadata": {},
     "output_type": "execute_result"
    },
    {
     "data": {
      "image/png": "[encoded data removed]",
      "text/plain": [
       "<Figure size 432x288 with 1 Axes>"
      ]
     },
     "metadata": {
      "needs_background": "light"
     },
     "output_type": "display_data"
    }
   ],
   "source": [
    "h.loc[h.index.intersection(corp.index)].median(1).hist()"
   ]
  },
  {
   "cell_type": "code",
   "execution_count": 138,
   "metadata": {},
   "outputs": [
    {
     "data": {
      "text/plain": [
       "<AxesSubplot:>"
      ]
     },
     "execution_count": 138,
     "metadata": {},
     "output_type": "execute_result"
    },
    {
     "data": {
      "image/png": "[encoded data removed]",
      "text/plain": [
       "<Figure size 432x288 with 1 Axes>"
      ]
     },
     "metadata": {
      "needs_background": "light"
     },
     "output_type": "display_data"
    }
   ],
   "source": [
    "h.loc[h.index.intersection(corn.index)].median(1).hist()"
   ]
  },
  {
   "cell_type": "code",
   "execution_count": 139,
   "metadata": {},
   "outputs": [],
   "source": [
    "h=np.log10(h+1)"
   ]
  },
  {
   "cell_type": "code",
   "execution_count": 140,
   "metadata": {},
   "outputs": [
    {
     "data": {
      "text/plain": [
       "<AxesSubplot:>"
      ]
     },
     "execution_count": 140,
     "metadata": {},
     "output_type": "execute_result"
    },
    {
     "data": {
      "image/png": "[encoded data removed]",
      "text/plain": [
       "<Figure size 432x288 with 1 Axes>"
      ]
     },
     "metadata": {
      "needs_background": "light"
     },
     "output_type": "display_data"
    }
   ],
   "source": [
    "h.loc[h.index.intersection(corn.index)].median(1).hist()"
   ]
  },
  {
   "cell_type": "code",
   "execution_count": 141,
   "metadata": {},
   "outputs": [
    {
     "data": {
      "text/plain": [
       "<AxesSubplot:>"
      ]
     },
     "execution_count": 141,
     "metadata": {},
     "output_type": "execute_result"
    },
    {
     "data": {
      "image/png": "[encoded data removed]",
      "text/plain": [
       "<Figure size 432x288 with 1 Axes>"
      ]
     },
     "metadata": {
      "needs_background": "light"
     },
     "output_type": "display_data"
    }
   ],
   "source": [
    "fib[h.index.intersection(corn.index)].median().hist()"
   ]
  },
  {
   "cell_type": "code",
   "execution_count": 142,
   "metadata": {},
   "outputs": [
    {
     "data": {
      "text/plain": [
       "ENST00000229379    3.147796\n",
       "ENST00000368892    1.988978\n",
       "ENST00000371528    0.000000\n",
       "ENST00000355526    0.000000\n",
       "ENST00000407796    1.674860\n",
       "                     ...   \n",
       "ENST00000253023    1.942574\n",
       "ENST00000388752    1.554164\n",
       "ENST00000630201    0.000000\n",
       "ENST00000489621    0.000000\n",
       "ENST00000559548    0.000000\n",
       "Length: 179, dtype: float64"
      ]
     },
     "execution_count": 142,
     "metadata": {},
     "output_type": "execute_result"
    }
   ],
   "source": [
    "h.loc[h.index.intersection(corn.index)].median(1)"
   ]
  },
  {
   "cell_type": "code",
   "execution_count": 133,
   "metadata": {},
   "outputs": [
    {
     "data": {
      "text/plain": [
       "(179659, 100)"
      ]
     },
     "execution_count": 133,
     "metadata": {},
     "output_type": "execute_result"
    }
   ],
   "source": [
    "ip=pd.read_csv(data+'ips.csv',index_col=0)\n",
    "ip.shape"
   ]
  },
  {
   "cell_type": "code",
   "execution_count": 86,
   "metadata": {},
   "outputs": [],
   "source": [
    "ipcor=ip.corr()"
   ]
  },
  {
   "cell_type": "code",
   "execution_count": 87,
   "metadata": {},
   "outputs": [
    {
     "data": {
      "text/plain": [
       "(179659, 81)"
      ]
     },
     "execution_count": 87,
     "metadata": {},
     "output_type": "execute_result"
    }
   ],
   "source": [
    "ip=ip[ipcor[ipcor.mean()>.9].index]\n",
    "ip.shape"
   ]
  },
  {
   "cell_type": "code",
   "execution_count": 88,
   "metadata": {},
   "outputs": [
    {
     "data": {
      "text/plain": [
       "<AxesSubplot:>"
      ]
     },
     "execution_count": 88,
     "metadata": {},
     "output_type": "execute_result"
    },
    {
     "data": {
      "image/png": "[encoded data removed]",
      "text/plain": [
       "<Figure size 432x288 with 1 Axes>"
      ]
     },
     "metadata": {
      "needs_background": "light"
     },
     "output_type": "display_data"
    }
   ],
   "source": [
    "ip.loc[ip.index.intersection(corp.index)].median(1).hist()"
   ]
  },
  {
   "cell_type": "code",
   "execution_count": 89,
   "metadata": {},
   "outputs": [
    {
     "data": {
      "text/plain": [
       "<AxesSubplot:>"
      ]
     },
     "execution_count": 89,
     "metadata": {},
     "output_type": "execute_result"
    },
    {
     "data": {
      "image/png": "[encoded data removed]",
      "text/plain": [
       "<Figure size 432x288 with 1 Axes>"
      ]
     },
     "metadata": {
      "needs_background": "light"
     },
     "output_type": "display_data"
    }
   ],
   "source": [
    "ip.loc[ip.index.intersection(corn.index)].median(1).hist()"
   ]
  },
  {
   "cell_type": "code",
   "execution_count": 90,
   "metadata": {},
   "outputs": [
    {
     "data": {
      "text/plain": [
       "(29, 173531)"
      ]
     },
     "execution_count": 90,
     "metadata": {},
     "output_type": "execute_result"
    }
   ],
   "source": [
    "h=np.log10(h+1).T\n",
    "h.shape"
   ]
  },
  {
   "cell_type": "code",
   "execution_count": 91,
   "metadata": {},
   "outputs": [
    {
     "data": {
      "text/plain": [
       "(81, 179659)"
      ]
     },
     "execution_count": 91,
     "metadata": {},
     "output_type": "execute_result"
    }
   ],
   "source": [
    "ip=np.log10(ip+1).T\n",
    "ip.shape"
   ]
  },
  {
   "cell_type": "code",
   "execution_count": 92,
   "metadata": {},
   "outputs": [
    {
     "data": {
      "text/plain": [
       "(141, 85)"
      ]
     },
     "execution_count": 92,
     "metadata": {},
     "output_type": "execute_result"
    }
   ],
   "source": [
    "top=corn\n",
    "com=top.index.intersection(h.columns).intersection(ip.columns)\n",
    "x=fib[com].reset_index(drop=True)\n",
    "x.shape"
   ]
  },
  {
   "cell_type": "code",
   "execution_count": 93,
   "metadata": {},
   "outputs": [],
   "source": [
    "pca = PCA(n_components=2)\n",
    "principalComponents = pca.fit_transform(x)\n",
    "principalDf = pd.DataFrame(data = principalComponents\n",
    "             , columns = ['principal component 1', 'principal component 2'])"
   ]
  },
  {
   "cell_type": "code",
   "execution_count": 94,
   "metadata": {},
   "outputs": [],
   "source": [
    "x['target']=pd.qcut(fib.age,2,labels=['young','old']).values.tolist()#+['esc']*len(hsc)+['ips']*(len(ips)-1)\n",
    "finalDf = pd.concat([principalDf, x[['target']]], axis = 1)"
   ]
  },
  {
   "cell_type": "code",
   "execution_count": 95,
   "metadata": {},
   "outputs": [
    {
     "data": {
      "text/plain": [
       "array([0.54772069, 0.15958015])"
      ]
     },
     "execution_count": 95,
     "metadata": {},
     "output_type": "execute_result"
    }
   ],
   "source": [
    "pca.explained_variance_ratio_"
   ]
  },
  {
   "cell_type": "code",
   "execution_count": 96,
   "metadata": {},
   "outputs": [
    {
     "name": "stdout",
     "output_type": "stream",
     "text": [
      "(29, 85)\n"
     ]
    }
   ],
   "source": [
    "x=h.loc[:,com].reset_index(drop=True)\n",
    "x=x.apply(lambda y: y.fillna(y.mean()),axis=0)\n",
    "print(x.shape)\n",
    "hsct=pca.transform(x)\n",
    "hsct=pd.DataFrame(hsct)\n",
    "hsct.columns = ['principal component 1', 'principal component 2']\n",
    "hsct['target']='esc'"
   ]
  },
  {
   "cell_type": "code",
   "execution_count": 97,
   "metadata": {},
   "outputs": [
    {
     "name": "stdout",
     "output_type": "stream",
     "text": [
      "(81, 85)\n"
     ]
    }
   ],
   "source": [
    "x=ip.loc[:,com].reset_index(drop=True)\n",
    "x=x.apply(lambda y: y.fillna(y.mean()),axis=0)\n",
    "print(x.shape)\n",
    "ipt=pca.transform(x)\n",
    "ipt=pd.DataFrame(ipt)\n",
    "ipt.columns = ['principal component 1', 'principal component 2']\n",
    "ipt['target']='ips'"
   ]
  },
  {
   "cell_type": "code",
   "execution_count": 98,
   "metadata": {},
   "outputs": [
    {
     "data": {
      "image/png": "[encoded data removed]",
      "text/plain": [
       "<Figure size 720x360 with 1 Axes>"
      ]
     },
     "metadata": {
      "needs_background": "light"
     },
     "output_type": "display_data"
    }
   ],
   "source": [
    "finalDf=finalDf.append(hsct)\n",
    "finalDf=finalDf.append(ipt)\n",
    "fig = plt.figure(figsize=(10,5))\n",
    "ax = fig.add_subplot(1,1,1) \n",
    "ax.set_xlabel('Principal Component 1', fontsize = 15)\n",
    "ax.set_ylabel('Principal Component 2', fontsize = 15)\n",
    "ax.set_title('2 component PCA', fontsize = 20)\n",
    "targets = ['young','old','esc','ips']\n",
    "colors = ['g', 'r','b','c']\n",
    "for target, color in zip(targets,colors):\n",
    "    indicesToKeep = finalDf['target'] == target\n",
    "    ax.scatter(finalDf.loc[indicesToKeep, 'principal component 1']\n",
    "               , finalDf.loc[indicesToKeep, 'principal component 2']\n",
    "               , c = color\n",
    "               , s = 5)\n",
    "ax.legend(targets)\n",
    "ax.grid()"
   ]
  },
  {
   "cell_type": "code",
   "execution_count": 99,
   "metadata": {},
   "outputs": [
    {
     "data": {
      "image/png": "[encoded data removed]",
      "text/plain": [
       "<Figure size 432x288 with 1 Axes>"
      ]
     },
     "metadata": {
      "needs_background": "light"
     },
     "output_type": "display_data"
    }
   ],
   "source": [
    "fig, ax = plt.subplots()\n",
    "sn.boxplot(data=finalDf[['principal component 1','target']],y='principal component 1',x='target',order=['esc','young','old','ips'],\n",
    "          ax=ax)\n",
    "ax.set_xlabel(\"\");"
   ]
  },
  {
   "cell_type": "code",
   "execution_count": null,
   "metadata": {},
   "outputs": [],
   "source": []
  },
  {
   "cell_type": "code",
   "execution_count": 54,
   "metadata": {},
   "outputs": [
    {
     "name": "stdout",
     "output_type": "stream",
     "text": [
      "(49878, 19)\n"
     ]
    }
   ],
   "source": [
    "hh=pd.read_feather(data+'esr.ft')\n",
    "print(hh.shape)\n",
    "hh=hh.set_index(hh['index']).drop('index',1)\n",
    "hh.index=hh.index.str.split('.').str[0]\n",
    "hh=hh.T"
   ]
  },
  {
   "cell_type": "code",
   "execution_count": 46,
   "metadata": {},
   "outputs": [],
   "source": [
    "gt=pd.read_table('https://storage.googleapis.com/gtex_analysis_v8/rna_seq_data/GTEx_Analysis_2017-06-05_v8_RNASeQCv1.1.9_gene_median_tpm.gct.gz',\n",
    "             skiprows=2,index_col=1)['Whole Blood']"
   ]
  },
  {
   "cell_type": "code",
   "execution_count": 54,
   "metadata": {},
   "outputs": [],
   "source": [
    "pp=['GZMH','GPR56','SYT11','FGFBP2','TGFBR3','FCRL6','CX3CR1','RHOC','PRSS23','NKG7','PPP2R2B','GZMB','TTC38','PRR5L','ADRB2','OSBPL5','C1orf21','LGALS1','NUAK1','GTSCR1','PDGFD','ANXA1','APOBEC3H','MCOLN2','KYNU','F2R','PRF1','CACNA2D2','ATP2B4','CD84','GZMA','PDGFRB','IGFBP3','SUSD1','KLF6','KLRD1','ZEB2','VAMP5','IGFBP7','F5','B3GAT1','VCAN','CRIP1','HAVCR2','GNLY','GK5','ERBB2','PYHIN1','NME8','FAM13A','AGPAT4','STOM','AHNAK','S100A10','CLDND2','PAPSS2','KLF11','GPR141','ZBP1','CHN1','SLFN11','CD244','ILK','CST7','PTGDS','KLRF1','PDK4','NMUR1','PTGDR','LGR6','GBP5','BHLHE40','APOBEC3G','LPP','C1orf162','P2RX7','SLC25A20','GAB3','EOMES','KLF10','MTSS1','PTPN7','TSHZ2','SNTB2','CTNNA1','IL10RA','SORT1','PTGER2','APH1B','MARCH1','ITGB1','CD70','ZNF365','MT1A','PDZD4','CKAP4','FASLG','BATF','GPR137B','IRAK3','ASCL2','LPCAT1','CYP4F22','MAFB','FAM214B','LINC00152','CMKLR1','SH2D1B','ANXA2','TMX4','MT1E','PLBD1','KIF1B','GPR114','NCAM1','SLC31A1','MAP3K5','ARG1','TTLL3','CPT1A','LMNA','FCGR1A','IL1R2','PARP3','ASGR2','CAPN2','STAT1','CPEB3','RRAS','LRRFIP2','ROPN1L','GFI1','PLEK','CCL5','VAMP3','GLIPR2','FBXO6','IDS','MEGF9','TSPAN2','YPEL1','MBOAT1','RCAN2','FRMD3','B4GALT5','SLC26A8','WARS','SLC22A15','ABI3','ANKRD22','CD58','AGPAT4-IT1','RNASE2','TPST1','TIGIT','RAP1GAP2','CD163','C3AR1','SRPK1','LHFPL2','EIF4G3','CDKN1C','SLAMF6','MS4A6A','ACVR2A','WIPI1','NBEAL2','RALGDS','UPP1','APMAP','ALOX5AP','SERPINB8','ANTXR2','GDPD5','LYPD2','SLC31A2','VSIG4','GABARAPL1','CD63','MGC24103','RASSF1','SLCO4C1','SERPINB6','ENTPD1','PRDM1','DSC2','E2F2','EFHD2','ARHGEF40','TP53I3','ATL3','RAP2A','CTSW','ANG','AKR1C3','SLC27A3','ATXN1','UBR2','PALLD','NPC2','TNF','SLFN13','OGDH','STX11','RAB11FIP5','CTSL1','MGST3','C19orf59','ANKRD13A','GALC','NDST1','TMTC1','CDC42EP4','MS4A4A','PARP8','ADAP2','TRAFD1','NPC1','MSC','HK3','CRISPLD2','LILRB1','TIPARP','LINGO2','GBP1','SFTPD','IFNG','SYNE2','FAM46A','FAR2','ACTA2','SMARCD3','DKFZP586I1420','HMOX1','PCNX','NRG1','CYB561','CCDC170','SLC7A7','ZNF683','TNFAIP6','DMXL2','CD86','ATG7','KIF13B','VIM','CAPNS1','MR1','PRDM8','PLA2G16','GNS','VNN3','MMP9','RBPJ','SLCO3A1','PROS1','ARHGAP26','METRNL','MAPK14','PLOD1','LGALSL','GOLM1','GBA','ITGA2B','HERPUD2','CTSG','DUSP18','HMGB2','MPO','NOD2','GNPTAB','TCN2','PHC2','USP3','GSTO1','FGR','LPAR6','FOXD2','TNIP3','EHD4','PRSS30P','SLC4A4','VCL','PPP2R5C','IL12RB1','SMAD7','TSPAN17','CSRP1','ANXA4','MVP','CEBPA','MFSD10','TTYH3','PFKFB2','DOK2','CLSTN3','SLAMF7','TCN1','ACAA2','DUSP3','JAKMIP1','RAB31','CD151','SLC1A7','CAST','SGPL1','RAB37','ID2','FGL2','GLT25D2','PADI4','MYOF','CFLAR','DUSP5','S1PR5','CD97','F13A1','PAQR4','NACC2','SRBD1','SERPINB1','SESTD1','DIAPH1','RAB27A','MXRA7','CREB3L2','PLAUR','ITGAL','LILRA5','TBXAS1','ARHGAP19','CYFIP1','DIRC2','ABCC3','APOBEC3C','ITGAM','GYG1','DPYSL2','EDARADD','ADAM17','CXCL16','PLEKHF1','UBE2F','C12orf75','ADCY9','FAM126B','VNN1','CPM','ADAMTSL4','ADHFE1','WDFY2','AGFG1','KLF4','LOXL3','PLXDC2','DEFA4','CYP1B1','PCBD1','PGD','YIPF1','CD300C','NCEH1','S100A8','LINC00260','TAGAP','MAP3K3','EMP1','TSPO','TCTA','FEZ1','LINC00324','WBP1L','GALNT10','MAF','ANXA5','VAV3','LAIR2','SOX13','SLC9A9','STX6','CLEC4E','ST6GALNAC6','PARP9','TIMP1','TTC16','SH3BP2','CLIC1','S100A12','GNG2','FAM53B','QPCT','SH3BGRL3','KIAA0319L','BNC2','NLRP12','PIK3CG','C3orf62','THBS1','DGKG','SLC22A4','DENND1B ','APLP2','FLVCR2','VOPP1','DYSF','RASSF4','CDC14B','ZNF385A','MARCO','DLGAP4','AKIRIN2','TRIM69','AKAP13','CSF1R','PHTF1','IL18BP','BTN3A1','HCG27','FBXL5','TP53I11','ABR','TNFSF13B','GCNT1','DRAXIN','DAAM2','BCL6','CTSD','AGPAT2','IL15','ABCA6','GAS7','RAB24','MAPK1','P2RX1','LPGAT1','MYL6','DYNLT1','INPPL1','MAPKAPK3','ATP1B3','NCR1','GRB10','HP','GDE1','C1orf216','TRIM21','TCIRG1','SORCS3','LRRC33','SIAH2','FAM134A','ERGIC1','ACADVL','MFN2','PRRG4','FAM160A2','IRF9','FUCA2','DHRS9','TAGLN','PNPLA6','IFI30','GPX1','REPS2','CFH','RAB7L1','PTP4A2','CCR2','SPON2','BLOC1S1','DEDD','PDZK1IP1','PLIN2','STAT3','HNMT','CPNE8','CPQ','IRF1','GLA','TADA3','BPI','PSMB9','DENND1A','OASL','CTSC','EPG5','MYD88','ACOT9','AGPAT3','CDK14','MEOX1','CALCOCO1','PAM','GPR68','SH2D2A','TRIM38','ADAR','AGAP1','ABHD16A','WDR1','IQCG','PTK2B','SPPL2A','GNGT2','IDH1','NEDD9','UBAC1','TRIB1','SLC39A1','TLN1','ACTN4','GPR97','VPS33A','BMX','EPB41L4A','PLOD3','SLC20A1','IFIT3','TNFRSF1B','ENPP4','ARRB1','SSH1','NLRP3','FAM129B','SETBP1','TOX','CALML4','PLCB2','ELOVL6','CYBB','IL10RB','C4orf34','ABHD3','STAT2','AOAH','ICAM4','NAGA','SAMD9L','RARRES3','STARD3NL','INPP5D','SLITRK4','KIAA0913','ARHGAP24','ARF3','CDKN1A','ATF3','FCGR2B','SSBP4','C11orf75','TBCB','RIPK3','MAD2L2','FAM70A','MGLL','ITPRIP','ELF4','RUNX3','OAS1','EIF2C4','QSOX1','CYSTM1','MGAM','ETV6','C20orf197','EBP','SH3BP5L','HLA-B','ABHD5','ORM1','PFKFB4','GUSB','FHOD1','ETFDH','PARP14','GP6','ARSG','CMTM3','TK2','SLC26A6','RPS6KA1','DUSP10','TBC1D2','FANCA','TMBIM1','RIPK2','HLA-E','ACSL1','SNX11','EMP3','EIF4EBP2','ENDOD1','USF1','SCIMP','USP4','PTTG1','TAP1','ANKS1A','HSPA6','NLRC5']\n",
    "pp=['CD248','LRRN3','NELL2','LEF1','CCR7','ABLIM1','MYC','CD27','FAM102A','SERPINE2','SLC16A10','FCGBP','BACH2','PDE9A','NOG','FLNB','NT5E','ITM2C','ATF7IP2','CR2','FAIM3','PHGDH','LDHB','SIRPG','PDE7A','NOSIP','PAICS','BZW2','OXNAD1','SCML1','RPL22','LDLRAP1','LTB','FAM134B','LBH','SUSD3','PIK3IP1','MFGE8','AGMAT','SLC7A6','IMPDH2','GRAP','NUCB2','FBL','SATB1','IL7R','ZSCAN18','KLRB1','HSP90AB1','VPREB3','TCF7','IGJ','BCL11B','NMT2','TNFRSF25','PTPRK','BTBD11','EDAR','ELOVL4','KLHL3','CD8B','NBEA','ATM','ID3','PCED1B','COBLL1','MZB1','GPR18','CEP41','ETS1','FAM117B','EPHX2','CAMK4','CCR6','TXK','LEPROTL1','DKC1','SPRY1','FOXO1','MMP28','LGMN','DENND2D','CLUAP1','OCIAD2','CD79A','RCAN3','TSPAN13','HOOK1','KIAA1147','THNSL1','ATIC','NAA16','CD28','RORC','RAD54B','MAN1C1','STRBP','TARBP1','BANK1','TRA@','FAM159A','NPM3','ZNF154','DGKA','KAT2A','POU2AF1','EPHA1','TPM2','C1QBP','LTBP3','PLCG1','ITGA6','TMEM204','CD96','RRS1','HSPH1','SESN1','TBC1D4','ANXA2R','CD7','STMN1','APEX1','ICOS','SAE1','FLT3LG','PMEPA1','RAPGEF6','ZNHIT6','PASK','TRIB2','DDX47','CDCA7L','GNG7','GEMIN4','TRAF5','CD3E','CXCR5','FBLN2','RNF144A','CD22','AK5','EIF2S3','HSPD1','DNAJA3','TXNDC5','BCAS4','IARS','C6orf48','RSL1D1','VEGFB','IMP3','SEPT6','POLR1C','PLAG1','AXIN2','TTC3','ZNF135','FAM129C','SPOCK2','CNN3','ZNF439','MTA3','C2orf40','EPB41L4A-AS1','EFNA1','ZNF256','NIPAL3','EXOSC5','PAQR8','ENOSF1','EIF3E','IGLL1','TEX10','MAGED1','UBASH3A','SPTBN1','HSF2','ARHGEF18','TRAP1','EIF3H','ZNF550','BCL11A','HLA-DOA','HSP90B1','SCD','POLR1E','SNRPN','ADSL','LARS','SYPL1','SLC38A1','CIRH1A','GSPT2','E2F5','SERINC5','EIF3L','CHMP7','DDX10','LAGE3','WDR75','CCDC109B','PFAS','FAM213A','TIGD7','PKIA','ARHGAP32','EEF2','DPH5','OBSCN','DOCK10','NAT10','ZNF544','TC2N','BTLA','TLE2','CCT2','C10orf2','EVL','GNL3','RPS6','IRF8','CD79B','SRPRB','GPA33','NOL11','TESPA1','PUS1','SET','MKI67IP','ITK','NRIP1','PDE3B','GRPEL2','C9orf123','SEH1L','TNFRSF17','ABCE1','MORC2','TRAF3IP2','ZNF671','DBP','ALKBH2','ATP6V0E2','MAPKAPK5-AS1','RPS4X','PPAT','KIAA0125','TNFRSF13B','LY9','WDR4','N6AMT1','CDK6','MAL','UBA52','PRMT3','UXT','RPL18','SPIB','BNIP3','BEX2','BLK','TTC27','GIMAP5','RPL13','WDR12','EIF3M','KIF5C','CCT8','DSC1','TMEM97','KLHL6','PACSIN1','KIAA0020','DPP4','MTUS1','DYRK2','RPS23','GPATCH4','PNPO','DPH2','URI1','LRPPRC','TRMT13','PPRC1','PDCD2L','BCKDHB','AFF3','PARP1','RPL8','CD19','EBF1','NOP2','CHI3L2','EIF2D','MARS2','NME1','CBLL1','CPA5','HSD17B8','C12orf57','PPA1','RPS13','RPL5','RBM17','SH3YL1','RASGRP2','SRM','FAM50B','CCDC50','TCEA3','CYP2J2','FAM153B','AKTIP','ALG8','NREP','NCL','RPUSD2','HLA-DOB','CERS6','GTPBP4','NPAT','RPLP0','MRPL45','HADH','HMGN1','CSTF3','RALA','ZNF529','ZNF22','GAR1','ADPRM','DDX55','BMS1','TMEM66','METTL1','ZNF30','LTV1','GAMT','NUP107','CCT3','CDK4','TMEM99','FCRLA','TCEA2','PHF14','AARS','NARS2','ZNF302','DNASE1L3','EIF4B','TOP1MT','C6orf108','RBM26','SRSF6','FOXJ3','H2AFY2','WRN','PUS7','C12orf23','SPON1','RBL2','ITFG2','KIAA0355','GLTSCR2','CHCHD10','LSM2','EBAG9','ZCCHC11','ADK','TSEN2','GPX7','CCT4','NOA1','NOP58','SREBF1','EIF4A2','EIF2A','MFNG','TMEM156','APBA2','SERBP1','ZBTB25','MAML2','AHCY','RGCC','RRP15','RPSAP58','NUP160','TSPAN3','DNMT1','OSBPL10','C16orf58','SMARCA1','SLC38A11','RPS2','KDM1A','RPL13P5','SHMT2','SERPINF1','HNRPDL','NOC3L','WDR59','C10orf35','CMTM8','NOL8','TIMM21','C5orf51','CYBASC3','ZDHHC9','TCF3','SERTAD2','CD3D','GIMAP7','NOLC1','C22orf29','EIF3G','MRPS27','DIMT1','TYSND1','PITPNC1','TNFRSF21','ZNF101','ANAPC1','ZNF480','BRIX1','RCL1','SLAIN1','RABGGTB','TMEM8B','WDR67','PRKCA','ESYT1','ZNF329','ZZZ3','ARMCX2','TRMT112','DDX18','YTHDC1','SDCCAG3','LGALS3BP','VPS51','TMEM123','GAL3ST4','ANKRD46','PDIA5','HDAC2','ST6GAL1','SH3PXD2A','ZCCHC7','KCNG1','TRIM28','RPL19','GTPBP3','HVCN1','MAP3K4','RPP40','PDCD4','LTA','EPRS','PAG1','TTC39B','MRI1','C11orf1','RRP1B','ZNF146','RPS16','CIAPIN1','HNRNPD','TOP2B','NHP2L1','DCXR','MIR600HG','PSIP1','PIK3C2B','C3orf37','MIF','LSM5','TCF4','ELP2','PAFAH1B3','NONO','GOLGA3','LAT','CCNB1IP1','USP11','NSMCE1','CRLF3','RPF2','UBIAD1','OCIAD1','ZNF548','CCDC41','AKR1B1','LCMT2','MTHFD1L','RPL4','MRPL3','P2RX5','RASGRP3','PRPSAP2','HAPLN3','HNRNPM','EIF3D','TRAT1','CMSS1','LUC7L','DDX21','DNMT3A','ZFAND1','LRRC8C','PLAC8','ABCB1','MRPL24','TIMD4','PVRIG','NXT1','C7orf23','THEM6','C1orf109','PLEKHB1','MRPS26','EEF1B2','CXCR7','LCK','SEPHS1','CLEC2D','TPP2','APRT','QSOX2','USP47','THOC1','RPAP2','TRAPPC6A','EML4','ZNF573','HLTF','ZNF827','LAMP5','MRPS31','TNFAIP8','FKBP4','LYRM4','IGHV5-78 ','BIN1','AUTS2','ATP5L','NDFIP1','SEPT1','RPL36','SALL2','CD5','ZNF239','ORC5','MRPS18B','CCT7','C12orf65','MSH6','RNMT','ITM2A','PPP1R3E','TSPYL2','NET1','IGIP','PPAN','TOMM20','RCN2','RPS20','PNN','NUP88','LIG1','C22orf32','TRMT5','GRAMD3','LUC7L3','SNRPF','PARM1','UBAP2','WDR74','HNRNPH3','PPAPDC1B','NFKB1','NSUN6','CXCR6','C21orf7','NARG2','PEBP1','MARCH3','NKRF','C21orf2','ST13','NAP1L1','TLR10','HNRNPA0','B3GALT2','RPUSD4','CECR5','DDX31','MST4','BYSL','TIMM9','PRMT6','EPHA4','RDH14','CNOT7','RPS14','TUT1','EIF2AK3','KDSR','SFXN2','FARSB','PIGN','ATP5G2','ZNF470','TCL1A','TFAM','ZMYND19','VIPR1','WDR89','NGDN','CTPS2','POLR3H','ZBED5','UBE2D2','DOLPP1','TSR1','MCCC1','SEL1L3','TMEM42','KLHL34','VRK1','DAP3','BLMH','HIST1H3H','MRPS33','NSG1','RNMTL1','FUT8','NAA25','BCL9','PTPLAD1','CLPP','ERCC6L2','TMEM220','CUTA','UTP14A','NOP56','EXOSC2','ZEB1','MS4A1','MPHOSPH10','NOL6','RPL13AP3','ADORA2A','DPPA4','ZNF428','SRSF5','RIOK1','ZNF830','SLC24A6','FXR1','AFG3L2','MRTO4','P2RY10','KIAA0922','KLF12','ANP32B','PNOC','MAK16','TASP1','RPL28','PSAT1','YTHDF1','MIS12','EFHD1','PDCL3','NUDT9','UQCC','IL27RA','PAK1IP1','EIF4A3','FGF9','BIVM','ATP5G1','FAM165B','U2AF1L4','LARP1B','DENR','MRPS9','C11orf31','CYP2E1','IPCEF1','RRN3P1','DCK','SRSF1','TGDS','HSPE1','NACA','CXXC5','PPIL1','CEP135','PIGP','PPWD1','NSUN2','NCBP2','KRI1','USP44','NIN','ZNF175','GRWD1','LOC338799','THAP11','LARP4','RPS29','TDP1','VARS','CYCS','IFT74','HNRNPH1','RPL17','BAG3','TOMM70A','SPECC1L','HSPA9','ERGIC3','CRELD1','TBRG4','SEPT9','LEO1','HIBADH','MTERFD1','ANAPC16','AHSA1','MZF1','SLC25A15','ABCF1','QTRT1','SIRT4','GNB2L1','CBY1','GYPE','CTPS1','XPO4','IPO4','LPHN1','CACYBP','SUPT3H','OPN3','FKBP11','MTR','ZNF721','ZNF260','AKAP7','ILF2','UBTF','NOB1','MPHOSPH9','LAPTM4B','BOD1','ARHGAP15','RBM14','ITPKB','RPSA','EWSR1','RPS6KB1','BCCIP','TFB2M','DHX15','C1QTNF6','GORASP2','FAM43A','PRKRA','MBTPS1','MGC57346','RUVBL1','STIP1','CD37','POLE3','FAM220A','SFXN4','RPP21','PRKACB','LCLAT1','MATN2','PJA1','ATAD1','CCDC57','POLRMT','TCERG1','PODXL2','DCAF4','RBFA','ALG13','CHORDC1','PRMT1','TMEM5','RPL11','ZNF581','DZIP3','CLNS1A','SURF6','AGPAT5','RPAIN','PTPN13','PRPF19','EBPL','TCTN1','SMARCC1','UFM1','FBXO15','EXOSC8','TMEM230','ZNF121','METTL25','RPL27A','ZNF234','UBE2G2','NSUN5','CYB5A','KIAA0586','USP13','CCR9','HSPA8','RASGRP1','SOX8','GLMN','METAP2','DHPS','CELA1','PPIL3','TGFBR2','SRRM1','TAF4','CEPT1','MTRF1','GTF3A','MSH2','TRIM44','TSPYL5','KANSL2','PCSK5','RIOK2','TMEM209','CSNK2A2','ACADM','DDX1','EPM2A','PGRMC2','RPL30','TSGA10','ZNF706','SMARCAD1','ZNF10','NGLY1','RPL35','TRA2B','EI24','N6AMT2','ZNF800','CD72','ZNF189','MORC2-AS1','COLQ','GART','TPT1','SUMF2','SRFBP1','CDC16','RBM11','HDAC1','TCTN3','MOAP1','SAAL1','ZRANB2','NUP62','MIR17HG','CCDC34','ABCF2','RPL23AP64','LARS2','OXCT1','MAGEE1','ZNF337','CCT6A','BCS1L','RPS18','SH2D3A','HIVEP2','ZNF567','CCNC','FBXO10','IPO11','PRIM1','HIC2','UBXN1','MRPL35','POLG2','LSM4']"
   ]
  },
  {
   "cell_type": "code",
   "execution_count": 55,
   "metadata": {},
   "outputs": [],
   "source": [
    "int=gt.index.intersection(hh.columns)"
   ]
  },
  {
   "cell_type": "code",
   "execution_count": 56,
   "metadata": {},
   "outputs": [],
   "source": [
    "hh=hh[int]"
   ]
  },
  {
   "cell_type": "code",
   "execution_count": 57,
   "metadata": {},
   "outputs": [],
   "source": [
    "gt=gt[int]"
   ]
  },
  {
   "cell_type": "code",
   "execution_count": 58,
   "metadata": {},
   "outputs": [],
   "source": [
    "df=pd.DataFrame([hh[hh.columns.intersection(pp)].median(),gt[gt.index.intersection(pp)]]).T\n",
    "df.columns=['h','g']"
   ]
  },
  {
   "cell_type": "code",
   "execution_count": 59,
   "metadata": {},
   "outputs": [
    {
     "data": {
      "text/plain": [
       "<AxesSubplot:>"
      ]
     },
     "execution_count": 59,
     "metadata": {},
     "output_type": "execute_result"
    },
    {
     "data": {
      "image/png": "[encoded data removed]",
      "text/plain": [
       "<Figure size 432x288 with 1 Axes>"
      ]
     },
     "metadata": {
      "needs_background": "light"
     },
     "output_type": "display_data"
    }
   ],
   "source": [
    "np.log((df.h+1)/(df.g+1)).hist(bins=100)"
   ]
  },
  {
   "cell_type": "code",
   "execution_count": 60,
   "metadata": {},
   "outputs": [
    {
     "data": {
      "text/plain": [
       "h    32.401842\n",
       "g     3.826350\n",
       "dtype: float64"
      ]
     },
     "execution_count": 60,
     "metadata": {},
     "output_type": "execute_result"
    }
   ],
   "source": [
    "df.median()"
   ]
  },
  {
   "cell_type": "code",
   "execution_count": 156,
   "metadata": {},
   "outputs": [],
   "source": [
    "fib=df.drop('age')"
   ]
  },
  {
   "cell_type": "code",
   "execution_count": 140,
   "metadata": {},
   "outputs": [],
   "source": [
    "fib=fib.loc[fib.index.intersection(h.index)]"
   ]
  },
  {
   "cell_type": "code",
   "execution_count": 166,
   "metadata": {},
   "outputs": [],
   "source": [
    "fib['h']=np.log10(h.loc[fib.index].TPM+1)"
   ]
  },
  {
   "cell_type": "code",
   "execution_count": 172,
   "metadata": {},
   "outputs": [
    {
     "data": {
      "text/plain": [
       "<AxesSubplot:>"
      ]
     },
     "execution_count": 172,
     "metadata": {},
     "output_type": "execute_result"
    },
    {
     "data": {
      "image/png": "[encoded data removed]",
      "text/plain": [
       "<Figure size 432x288 with 1 Axes>"
      ]
     },
     "metadata": {
      "needs_background": "light"
     },
     "output_type": "display_data"
    }
   ],
   "source": [
    "d=fib.loc[fib.index.intersection(corp.index)][['h','low','high']]\n",
    "d.columns=['Stem cells','Young cells','Old cells']\n",
    "sn.lineplot(data=d.T,legend=False)"
   ]
  },
  {
   "cell_type": "code",
   "execution_count": 101,
   "metadata": {},
   "outputs": [
    {
     "data": {
      "text/plain": [
       "<AxesSubplot:>"
      ]
     },
     "execution_count": 101,
     "metadata": {},
     "output_type": "execute_result"
    },
    {
     "data": {
      "image/png": "[encoded data removed]",
      "text/plain": [
       "<Figure size 432x288 with 1 Axes>"
      ]
     },
     "metadata": {
      "needs_background": "light"
     },
     "output_type": "display_data"
    }
   ],
   "source": [
    "d=fib.loc[corp.index]\n",
    "d['Same direction']=d['h']<d['mid']\n",
    "d['Opposit direction']=d['h']>d['mid']\n",
    "d.sum()[['Same direction','Opposit direction']].plot(kind='bar')"
   ]
  },
  {
   "cell_type": "code",
   "execution_count": 108,
   "metadata": {},
   "outputs": [],
   "source": [
    "corn=cor[cor.index.intersection(fib.index)].sort_values().dropna().head(100)"
   ]
  },
  {
   "cell_type": "code",
   "execution_count": 109,
   "metadata": {},
   "outputs": [
    {
     "data": {
      "text/plain": [
       "<AxesSubplot:>"
      ]
     },
     "execution_count": 109,
     "metadata": {},
     "output_type": "execute_result"
    },
    {
     "data": {
      "image/png": "[encoded data removed]",
      "text/plain": [
       "<Figure size 432x288 with 1 Axes>"
      ]
     },
     "metadata": {
      "needs_background": "light"
     },
     "output_type": "display_data"
    }
   ],
   "source": [
    "d=fib.loc[corn.index]\n",
    "d['Opposit direction']=d['h']<d['mid']\n",
    "d['Same direction']=d['h']>d['mid']\n",
    "d.sum()[['Same direction','Opposit direction']].plot(kind='bar')"
   ]
  },
  {
   "cell_type": "code",
   "execution_count": 99,
   "metadata": {},
   "outputs": [],
   "source": [
    "ref=pd.read_table('../data/rna/refseq.txt',index_col=0)\n",
    "ref['ref']=(ref['RefSeq mRNA ID'].astype(str)+ref['RefSeq ncRNA ID'].astype(str))\n",
    "ref['ref']=ref.ref.str.strip('nan')\n",
    "ref=ref[ref.ref!='']"
   ]
  },
  {
   "cell_type": "code",
   "execution_count": 115,
   "metadata": {},
   "outputs": [
    {
     "data": {
      "text/html": [
       "<div>\n",
       "<style scoped>\n",
       "    .dataframe tbody tr th:only-of-type {\n",
       "        vertical-align: middle;\n",
       "    }\n",
       "\n",
       "    .dataframe tbody tr th {\n",
       "        vertical-align: top;\n",
       "    }\n",
       "\n",
       "    .dataframe thead th {\n",
       "        text-align: right;\n",
       "    }\n",
       "</style>\n",
       "<table border=\"1\" class=\"dataframe\">\n",
       "  <thead>\n",
       "    <tr style=\"text-align: right;\">\n",
       "      <th></th>\n",
       "      <th>low</th>\n",
       "      <th>mid</th>\n",
       "      <th>high</th>\n",
       "      <th>h</th>\n",
       "    </tr>\n",
       "    <tr>\n",
       "      <th>Transcript stable ID</th>\n",
       "      <th></th>\n",
       "      <th></th>\n",
       "      <th></th>\n",
       "      <th></th>\n",
       "    </tr>\n",
       "  </thead>\n",
       "  <tbody>\n",
       "    <tr>\n",
       "      <th>ENST00000514217</th>\n",
       "      <td>1.180671</td>\n",
       "      <td>1.180671</td>\n",
       "      <td>1.180152</td>\n",
       "      <td>0.0</td>\n",
       "    </tr>\n",
       "  </tbody>\n",
       "</table>\n",
       "</div>"
      ],
      "text/plain": [
       "                           low       mid      high    h\n",
       "Transcript stable ID                                   \n",
       "ENST00000514217       1.180671  1.180671  1.180152  0.0"
      ]
     },
     "execution_count": 115,
     "metadata": {},
     "output_type": "execute_result"
    }
   ],
   "source": [
    "fib[fib.index.isin(ref[ref['Gene name']=='IL7R'].index)]"
   ]
  },
  {
   "cell_type": "code",
   "execution_count": 87,
   "metadata": {},
   "outputs": [
    {
     "data": {
      "text/plain": [
       "Transcript stable ID\n",
       "ENST00000321990     0.285960\n",
       "ENST00000568449     0.286076\n",
       "ENST00000234040     0.287701\n",
       "ENST00000625371     0.292790\n",
       "ENST00000264935     0.292790\n",
       "                     ...    \n",
       "ENST00000297268     3.533840\n",
       "ENST00000544301     3.616887\n",
       "ENST00000442011     3.622876\n",
       "ENST00000443816     3.672735\n",
       "age                48.842105\n",
       "Length: 11734, dtype: float64"
      ]
     },
     "execution_count": 87,
     "metadata": {},
     "output_type": "execute_result"
    }
   ],
   "source": [
    "fib.mean().sort_values()"
   ]
  },
  {
   "cell_type": "code",
   "execution_count": null,
   "metadata": {},
   "outputs": [],
   "source": []
  }
 ],
 "metadata": {
  "kernelspec": {
   "display_name": "stem",
   "language": "python",
   "name": "stem"
  },
  "language_info": {
   "codemirror_mode": {
    "name": "ipython",
    "version": 3
   },
   "file_extension": ".py",
   "mimetype": "text/x-python",
   "name": "python",
   "nbconvert_exporter": "python",
   "pygments_lexer": "ipython3",
   "version": "3.9.2"
  }
 },
 "nbformat": 4,
 "nbformat_minor": 4
}
