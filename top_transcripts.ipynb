{
 "cells": [
  {
   "cell_type": "code",
   "execution_count": 27,
   "metadata": {},
   "outputs": [],
   "source": [
    "import pandas as pd\n",
    "import seaborn as sn\n",
    "import numpy as np\n",
    "import matplotlib.pyplot as plt\n",
    "from matplotlib import rc\n",
    "from sklearn.decomposition import PCA\n",
    "import warnings\n",
    "warnings.filterwarnings('ignore')\n",
    "fib_file='https://ftp.ncbi.nlm.nih.gov/geo/series/GSE113nnn/GSE113957/suppl/GSE113957_fpkm.txt.gz'"
   ]
  },
  {
   "cell_type": "code",
   "execution_count": 9,
   "metadata": {},
   "outputs": [
    {
     "data": {
      "text/plain": [
       "(27142, 150)"
      ]
     },
     "execution_count": 9,
     "metadata": {},
     "output_type": "execute_result"
    }
   ],
   "source": [
    "fib=pd.read_table(fib_file,index_col=0)\n",
    "fib.shape"
   ]
  },
  {
   "cell_type": "code",
   "execution_count": 10,
   "metadata": {},
   "outputs": [
    {
     "data": {
      "text/plain": [
       "(27142, 143)"
      ]
     },
     "execution_count": 10,
     "metadata": {},
     "output_type": "execute_result"
    }
   ],
   "source": [
    "fib=fib.iloc[:,7:]\n",
    "fib.shape"
   ]
  },
  {
   "cell_type": "code",
   "execution_count": 11,
   "metadata": {},
   "outputs": [
    {
     "data": {
      "text/plain": [
       "101_19yr_Female_Caucasian         332400.032\n",
       "102_19yr_Male_Caucasian           318938.278\n",
       "103_19yr_Male_Caucasian           325873.988\n",
       "104_19yr_Male_Caucasian           328673.900\n",
       "105_20yr_Male_Caucasian           322409.524\n",
       "106_20yr_Female_Caucasian         326903.438\n",
       "107_31yr_Female_Caucasian         343312.690\n",
       "108_31_female_Caucasian           324368.230\n",
       "109_32_male_Unknown               342743.396\n",
       "110_32_female_BlackPuertoRican    339984.326\n",
       "dtype: float64"
      ]
     },
     "execution_count": 11,
     "metadata": {},
     "output_type": "execute_result"
    }
   ],
   "source": [
    "fib.sum().head(10)"
   ]
  },
  {
   "cell_type": "code",
   "execution_count": 15,
   "metadata": {},
   "outputs": [
    {
     "data": {
      "text/plain": [
       "101_19yr_Female_Caucasian         1000000.0\n",
       "102_19yr_Male_Caucasian           1000000.0\n",
       "103_19yr_Male_Caucasian           1000000.0\n",
       "104_19yr_Male_Caucasian           1000000.0\n",
       "105_20yr_Male_Caucasian           1000000.0\n",
       "106_20yr_Female_Caucasian         1000000.0\n",
       "107_31yr_Female_Caucasian         1000000.0\n",
       "108_31_female_Caucasian           1000000.0\n",
       "109_32_male_Unknown               1000000.0\n",
       "110_32_female_BlackPuertoRican    1000000.0\n",
       "dtype: float64"
      ]
     },
     "execution_count": 15,
     "metadata": {},
     "output_type": "execute_result"
    }
   ],
   "source": [
    "fib=(fib/fib.sum())*10**6\n",
    "fib.sum().head(10)\n"
   ]
  },
  {
   "cell_type": "code",
   "execution_count": 16,
   "metadata": {},
   "outputs": [
    {
     "data": {
      "text/plain": [
       "(27142, 141)"
      ]
     },
     "execution_count": 16,
     "metadata": {},
     "output_type": "execute_result"
    }
   ],
   "source": [
    "HGPS=['139_8_Female-HGPS_Caucasian','141_8_Male-HGPS_Unknown']\n",
    "#mos=['197_2yr3mos_F_Unknown','198_3yr9mos_F_Unknown','199_4yr8mos_F_Unknown','200_8yr6mos_M_Unknown','201_6ys11mos_F_Unknown','202_5yr0mos_F_Unknown','203_8yr10mos_M_Unknown','204_3yr0mos_F_Unknown']\n",
    "fib=fib[[c for c in fib.columns if c not in HGPS]]\n",
    "fib.shape"
   ]
  },
  {
   "cell_type": "code",
   "execution_count": 17,
   "metadata": {},
   "outputs": [],
   "source": [
    "ages=fib.columns.str.split('_').str[1].str.strip('yr').str.strip('YR').tolist()\n",
    "ages=[int(a[0]) if 'yr' in a or 'ys' in a else int(a) for a in ages]\n",
    "fib=fib.T\n",
    "fib=np.log10(fib+1)\n",
    "fib['age']=ages"
   ]
  },
  {
   "cell_type": "code",
   "execution_count": 25,
   "metadata": {},
   "outputs": [
    {
     "data": {
      "text/plain": [
       "Transcript ID\n",
       "NM_001134231   -0.715569\n",
       "NM_021076      -0.702928\n",
       "NM_005439      -0.665704\n",
       "NM_006755      -0.657171\n",
       "NM_004547      -0.653315\n",
       "                  ...   \n",
       "NM_012106       0.663331\n",
       "NM_030571       0.669169\n",
       "NM_001300899    0.672514\n",
       "NR_028028       0.698433\n",
       "NM_173647       0.703318\n",
       "Length: 23186, dtype: float64"
      ]
     },
     "execution_count": 25,
     "metadata": {},
     "output_type": "execute_result"
    }
   ],
   "source": [
    "cor=fib.corrwith(fib['age']).dropna().sort_values().drop('age')\n",
    "cor"
   ]
  },
  {
   "cell_type": "code",
   "execution_count": 43,
   "metadata": {},
   "outputs": [],
   "source": [
    "fib['age_group']=pd.qcut(fib.age,5)\n",
    "fl=fib[fib.age<fib.age.quantile(1/5)].mean()\n",
    "fh=fib[fib.age>fib.age.quantile(4/5)].mean()\n",
    "fm=fib.median()\n",
    "df=pd.concat([fl,fm,fh],1)\n",
    "df.columns=['young','mid','old']\n",
    "df['log_fold']=df['old']/df['young']"
   ]
  },
  {
   "cell_type": "code",
   "execution_count": 44,
   "metadata": {},
   "outputs": [
    {
     "data": {
      "text/plain": [
       "<AxesSubplot:xlabel='age', ylabel='NM_173647'>"
      ]
     },
     "execution_count": 44,
     "metadata": {},
     "output_type": "execute_result"
    },
    {
     "data": {
      "image/png": "[encoded data removed]",
      "text/plain": [
       "<Figure size 432x288 with 1 Axes>"
      ]
     },
     "metadata": {
      "needs_background": "light"
     },
     "output_type": "display_data"
    }
   ],
   "source": [
    "fib.plot.scatter('age','NM_173647')"
   ]
  },
  {
   "cell_type": "code",
   "execution_count": 46,
   "metadata": {},
   "outputs": [
    {
     "data": {
      "text/html": [
       "<div>\n",
       "<style scoped>\n",
       "    .dataframe tbody tr th:only-of-type {\n",
       "        vertical-align: middle;\n",
       "    }\n",
       "\n",
       "    .dataframe tbody tr th {\n",
       "        vertical-align: top;\n",
       "    }\n",
       "\n",
       "    .dataframe thead th {\n",
       "        text-align: right;\n",
       "    }\n",
       "</style>\n",
       "<table border=\"1\" class=\"dataframe\">\n",
       "  <thead>\n",
       "    <tr style=\"text-align: right;\">\n",
       "      <th></th>\n",
       "      <th>young</th>\n",
       "      <th>mid</th>\n",
       "      <th>old</th>\n",
       "      <th>log_fold</th>\n",
       "    </tr>\n",
       "    <tr>\n",
       "      <th>Transcript ID</th>\n",
       "      <th></th>\n",
       "      <th></th>\n",
       "      <th></th>\n",
       "      <th></th>\n",
       "    </tr>\n",
       "  </thead>\n",
       "  <tbody>\n",
       "    <tr>\n",
       "      <th>NM_173647</th>\n",
       "      <td>1.371643</td>\n",
       "      <td>1.485713</td>\n",
       "      <td>1.646198</td>\n",
       "      <td>1.200166</td>\n",
       "    </tr>\n",
       "    <tr>\n",
       "      <th>NR_028028</th>\n",
       "      <td>1.400996</td>\n",
       "      <td>1.496360</td>\n",
       "      <td>1.616084</td>\n",
       "      <td>1.153525</td>\n",
       "    </tr>\n",
       "    <tr>\n",
       "      <th>NM_001300899</th>\n",
       "      <td>1.041330</td>\n",
       "      <td>1.156257</td>\n",
       "      <td>1.324890</td>\n",
       "      <td>1.272306</td>\n",
       "    </tr>\n",
       "    <tr>\n",
       "      <th>NM_030571</th>\n",
       "      <td>1.772609</td>\n",
       "      <td>1.844087</td>\n",
       "      <td>2.017574</td>\n",
       "      <td>1.138194</td>\n",
       "    </tr>\n",
       "    <tr>\n",
       "      <th>NM_012106</th>\n",
       "      <td>2.028655</td>\n",
       "      <td>2.102743</td>\n",
       "      <td>2.230206</td>\n",
       "      <td>1.099352</td>\n",
       "    </tr>\n",
       "    <tr>\n",
       "      <th>NM_147150</th>\n",
       "      <td>2.006383</td>\n",
       "      <td>2.153914</td>\n",
       "      <td>2.362515</td>\n",
       "      <td>1.177499</td>\n",
       "    </tr>\n",
       "    <tr>\n",
       "      <th>NM_015194</th>\n",
       "      <td>1.557838</td>\n",
       "      <td>1.946467</td>\n",
       "      <td>2.241403</td>\n",
       "      <td>1.438791</td>\n",
       "    </tr>\n",
       "    <tr>\n",
       "      <th>NM_001136562</th>\n",
       "      <td>2.041302</td>\n",
       "      <td>2.190216</td>\n",
       "      <td>2.399364</td>\n",
       "      <td>1.175409</td>\n",
       "    </tr>\n",
       "    <tr>\n",
       "      <th>NM_001101801</th>\n",
       "      <td>1.438342</td>\n",
       "      <td>1.530257</td>\n",
       "      <td>1.659095</td>\n",
       "      <td>1.153478</td>\n",
       "    </tr>\n",
       "    <tr>\n",
       "      <th>NM_001310</th>\n",
       "      <td>1.419542</td>\n",
       "      <td>1.518930</td>\n",
       "      <td>1.688512</td>\n",
       "      <td>1.189477</td>\n",
       "    </tr>\n",
       "    <tr>\n",
       "      <th>NM_001323370</th>\n",
       "      <td>0.523942</td>\n",
       "      <td>1.383691</td>\n",
       "      <td>2.040320</td>\n",
       "      <td>3.894175</td>\n",
       "    </tr>\n",
       "    <tr>\n",
       "      <th>NM_020353</th>\n",
       "      <td>0.932179</td>\n",
       "      <td>1.141701</td>\n",
       "      <td>1.618814</td>\n",
       "      <td>1.736592</td>\n",
       "    </tr>\n",
       "    <tr>\n",
       "      <th>NM_005780</th>\n",
       "      <td>1.806152</td>\n",
       "      <td>1.924803</td>\n",
       "      <td>2.141313</td>\n",
       "      <td>1.185567</td>\n",
       "    </tr>\n",
       "    <tr>\n",
       "      <th>NM_022470</th>\n",
       "      <td>1.202346</td>\n",
       "      <td>1.372129</td>\n",
       "      <td>1.711082</td>\n",
       "      <td>1.423120</td>\n",
       "    </tr>\n",
       "    <tr>\n",
       "      <th>NM_001017923</th>\n",
       "      <td>0.693502</td>\n",
       "      <td>0.832681</td>\n",
       "      <td>1.017374</td>\n",
       "      <td>1.467010</td>\n",
       "    </tr>\n",
       "    <tr>\n",
       "      <th>NM_002035</th>\n",
       "      <td>1.343854</td>\n",
       "      <td>1.414104</td>\n",
       "      <td>1.574703</td>\n",
       "      <td>1.171782</td>\n",
       "    </tr>\n",
       "    <tr>\n",
       "      <th>NM_003941</th>\n",
       "      <td>1.327608</td>\n",
       "      <td>1.421451</td>\n",
       "      <td>1.607506</td>\n",
       "      <td>1.210829</td>\n",
       "    </tr>\n",
       "    <tr>\n",
       "      <th>NM_000313</th>\n",
       "      <td>0.928289</td>\n",
       "      <td>1.200505</td>\n",
       "      <td>1.438097</td>\n",
       "      <td>1.549190</td>\n",
       "    </tr>\n",
       "    <tr>\n",
       "      <th>NM_033632</th>\n",
       "      <td>1.037151</td>\n",
       "      <td>1.190541</td>\n",
       "      <td>1.352137</td>\n",
       "      <td>1.303703</td>\n",
       "    </tr>\n",
       "    <tr>\n",
       "      <th>NM_003851</th>\n",
       "      <td>1.291699</td>\n",
       "      <td>1.440172</td>\n",
       "      <td>1.695620</td>\n",
       "      <td>1.312706</td>\n",
       "    </tr>\n",
       "  </tbody>\n",
       "</table>\n",
       "</div>"
      ],
      "text/plain": [
       "                  young       mid       old  log_fold\n",
       "Transcript ID                                        \n",
       "NM_173647      1.371643  1.485713  1.646198  1.200166\n",
       "NR_028028      1.400996  1.496360  1.616084  1.153525\n",
       "NM_001300899   1.041330  1.156257  1.324890  1.272306\n",
       "NM_030571      1.772609  1.844087  2.017574  1.138194\n",
       "NM_012106      2.028655  2.102743  2.230206  1.099352\n",
       "NM_147150      2.006383  2.153914  2.362515  1.177499\n",
       "NM_015194      1.557838  1.946467  2.241403  1.438791\n",
       "NM_001136562   2.041302  2.190216  2.399364  1.175409\n",
       "NM_001101801   1.438342  1.530257  1.659095  1.153478\n",
       "NM_001310      1.419542  1.518930  1.688512  1.189477\n",
       "NM_001323370   0.523942  1.383691  2.040320  3.894175\n",
       "NM_020353      0.932179  1.141701  1.618814  1.736592\n",
       "NM_005780      1.806152  1.924803  2.141313  1.185567\n",
       "NM_022470      1.202346  1.372129  1.711082  1.423120\n",
       "NM_001017923   0.693502  0.832681  1.017374  1.467010\n",
       "NM_002035      1.343854  1.414104  1.574703  1.171782\n",
       "NM_003941      1.327608  1.421451  1.607506  1.210829\n",
       "NM_000313      0.928289  1.200505  1.438097  1.549190\n",
       "NM_033632      1.037151  1.190541  1.352137  1.303703\n",
       "NM_003851      1.291699  1.440172  1.695620  1.312706"
      ]
     },
     "execution_count": 46,
     "metadata": {},
     "output_type": "execute_result"
    }
   ],
   "source": [
    "df.loc[cor.tail(20).index][::-1]"
   ]
  },
  {
   "cell_type": "code",
   "execution_count": 49,
   "metadata": {},
   "outputs": [],
   "source": [
    "df.loc[cor.tail(20).index][::-1].to_csv('positive.csv')"
   ]
  },
  {
   "cell_type": "code",
   "execution_count": 47,
   "metadata": {},
   "outputs": [
    {
     "data": {
      "text/plain": [
       "<AxesSubplot:xlabel='age', ylabel='NM_001134231'>"
      ]
     },
     "execution_count": 47,
     "metadata": {},
     "output_type": "execute_result"
    },
    {
     "data": {
      "image/png": "[encoded data removed]",
      "text/plain": [
       "<Figure size 432x288 with 1 Axes>"
      ]
     },
     "metadata": {
      "needs_background": "light"
     },
     "output_type": "display_data"
    }
   ],
   "source": [
    "fib.plot.scatter('age','NM_001134231')"
   ]
  },
  {
   "cell_type": "code",
   "execution_count": 48,
   "metadata": {},
   "outputs": [
    {
     "data": {
      "text/html": [
       "<div>\n",
       "<style scoped>\n",
       "    .dataframe tbody tr th:only-of-type {\n",
       "        vertical-align: middle;\n",
       "    }\n",
       "\n",
       "    .dataframe tbody tr th {\n",
       "        vertical-align: top;\n",
       "    }\n",
       "\n",
       "    .dataframe thead th {\n",
       "        text-align: right;\n",
       "    }\n",
       "</style>\n",
       "<table border=\"1\" class=\"dataframe\">\n",
       "  <thead>\n",
       "    <tr style=\"text-align: right;\">\n",
       "      <th></th>\n",
       "      <th>young</th>\n",
       "      <th>mid</th>\n",
       "      <th>old</th>\n",
       "      <th>log_fold</th>\n",
       "    </tr>\n",
       "    <tr>\n",
       "      <th>Transcript ID</th>\n",
       "      <th></th>\n",
       "      <th></th>\n",
       "      <th></th>\n",
       "      <th></th>\n",
       "    </tr>\n",
       "  </thead>\n",
       "  <tbody>\n",
       "    <tr>\n",
       "      <th>NM_001134231</th>\n",
       "      <td>2.445253</td>\n",
       "      <td>2.317493</td>\n",
       "      <td>2.071843</td>\n",
       "      <td>0.847292</td>\n",
       "    </tr>\n",
       "    <tr>\n",
       "      <th>NM_021076</th>\n",
       "      <td>0.521906</td>\n",
       "      <td>0.288972</td>\n",
       "      <td>0.092527</td>\n",
       "      <td>0.177287</td>\n",
       "    </tr>\n",
       "    <tr>\n",
       "      <th>NM_005439</th>\n",
       "      <td>2.549954</td>\n",
       "      <td>2.489753</td>\n",
       "      <td>2.421418</td>\n",
       "      <td>0.949593</td>\n",
       "    </tr>\n",
       "    <tr>\n",
       "      <th>NM_006755</th>\n",
       "      <td>2.403321</td>\n",
       "      <td>2.317446</td>\n",
       "      <td>2.173318</td>\n",
       "      <td>0.904298</td>\n",
       "    </tr>\n",
       "    <tr>\n",
       "      <th>NM_004547</th>\n",
       "      <td>2.351086</td>\n",
       "      <td>2.260166</td>\n",
       "      <td>2.158627</td>\n",
       "      <td>0.918140</td>\n",
       "    </tr>\n",
       "    <tr>\n",
       "      <th>NM_000852</th>\n",
       "      <td>2.837332</td>\n",
       "      <td>2.727442</td>\n",
       "      <td>2.548321</td>\n",
       "      <td>0.898140</td>\n",
       "    </tr>\n",
       "    <tr>\n",
       "      <th>NM_001284368</th>\n",
       "      <td>2.408022</td>\n",
       "      <td>2.342002</td>\n",
       "      <td>2.260420</td>\n",
       "      <td>0.938704</td>\n",
       "    </tr>\n",
       "    <tr>\n",
       "      <th>NM_016404</th>\n",
       "      <td>2.084944</td>\n",
       "      <td>2.009487</td>\n",
       "      <td>1.936857</td>\n",
       "      <td>0.928973</td>\n",
       "    </tr>\n",
       "    <tr>\n",
       "      <th>NM_152742</th>\n",
       "      <td>0.406627</td>\n",
       "      <td>0.272731</td>\n",
       "      <td>0.133605</td>\n",
       "      <td>0.328569</td>\n",
       "    </tr>\n",
       "    <tr>\n",
       "      <th>NM_002952</th>\n",
       "      <td>2.897314</td>\n",
       "      <td>2.840674</td>\n",
       "      <td>2.562308</td>\n",
       "      <td>0.884374</td>\n",
       "    </tr>\n",
       "    <tr>\n",
       "      <th>NM_001278728</th>\n",
       "      <td>1.656277</td>\n",
       "      <td>1.588802</td>\n",
       "      <td>1.439193</td>\n",
       "      <td>0.868932</td>\n",
       "    </tr>\n",
       "    <tr>\n",
       "      <th>NM_001089591</th>\n",
       "      <td>2.301905</td>\n",
       "      <td>2.232237</td>\n",
       "      <td>2.074136</td>\n",
       "      <td>0.901052</td>\n",
       "    </tr>\n",
       "    <tr>\n",
       "      <th>NM_016498</th>\n",
       "      <td>1.209081</td>\n",
       "      <td>1.070974</td>\n",
       "      <td>0.776873</td>\n",
       "      <td>0.642531</td>\n",
       "    </tr>\n",
       "    <tr>\n",
       "      <th>NM_006341</th>\n",
       "      <td>1.829218</td>\n",
       "      <td>1.702103</td>\n",
       "      <td>1.476855</td>\n",
       "      <td>0.807369</td>\n",
       "    </tr>\n",
       "    <tr>\n",
       "      <th>NM_002311</th>\n",
       "      <td>1.314806</td>\n",
       "      <td>1.255456</td>\n",
       "      <td>1.149843</td>\n",
       "      <td>0.874535</td>\n",
       "    </tr>\n",
       "    <tr>\n",
       "      <th>NM_002028</th>\n",
       "      <td>1.552777</td>\n",
       "      <td>1.473823</td>\n",
       "      <td>1.393113</td>\n",
       "      <td>0.897176</td>\n",
       "    </tr>\n",
       "    <tr>\n",
       "      <th>NM_198318</th>\n",
       "      <td>2.269350</td>\n",
       "      <td>2.203035</td>\n",
       "      <td>2.054973</td>\n",
       "      <td>0.905534</td>\n",
       "    </tr>\n",
       "    <tr>\n",
       "      <th>NM_002810</th>\n",
       "      <td>2.252768</td>\n",
       "      <td>2.190261</td>\n",
       "      <td>2.098393</td>\n",
       "      <td>0.931473</td>\n",
       "    </tr>\n",
       "    <tr>\n",
       "      <th>NM_175617</th>\n",
       "      <td>2.401116</td>\n",
       "      <td>2.214601</td>\n",
       "      <td>1.951037</td>\n",
       "      <td>0.812554</td>\n",
       "    </tr>\n",
       "    <tr>\n",
       "      <th>NM_001184962</th>\n",
       "      <td>1.448500</td>\n",
       "      <td>1.256792</td>\n",
       "      <td>0.928892</td>\n",
       "      <td>0.641279</td>\n",
       "    </tr>\n",
       "  </tbody>\n",
       "</table>\n",
       "</div>"
      ],
      "text/plain": [
       "                  young       mid       old  log_fold\n",
       "Transcript ID                                        \n",
       "NM_001134231   2.445253  2.317493  2.071843  0.847292\n",
       "NM_021076      0.521906  0.288972  0.092527  0.177287\n",
       "NM_005439      2.549954  2.489753  2.421418  0.949593\n",
       "NM_006755      2.403321  2.317446  2.173318  0.904298\n",
       "NM_004547      2.351086  2.260166  2.158627  0.918140\n",
       "NM_000852      2.837332  2.727442  2.548321  0.898140\n",
       "NM_001284368   2.408022  2.342002  2.260420  0.938704\n",
       "NM_016404      2.084944  2.009487  1.936857  0.928973\n",
       "NM_152742      0.406627  0.272731  0.133605  0.328569\n",
       "NM_002952      2.897314  2.840674  2.562308  0.884374\n",
       "NM_001278728   1.656277  1.588802  1.439193  0.868932\n",
       "NM_001089591   2.301905  2.232237  2.074136  0.901052\n",
       "NM_016498      1.209081  1.070974  0.776873  0.642531\n",
       "NM_006341      1.829218  1.702103  1.476855  0.807369\n",
       "NM_002311      1.314806  1.255456  1.149843  0.874535\n",
       "NM_002028      1.552777  1.473823  1.393113  0.897176\n",
       "NM_198318      2.269350  2.203035  2.054973  0.905534\n",
       "NM_002810      2.252768  2.190261  2.098393  0.931473\n",
       "NM_175617      2.401116  2.214601  1.951037  0.812554\n",
       "NM_001184962   1.448500  1.256792  0.928892  0.641279"
      ]
     },
     "execution_count": 48,
     "metadata": {},
     "output_type": "execute_result"
    }
   ],
   "source": [
    "df.loc[cor.head(20).index]"
   ]
  },
  {
   "cell_type": "code",
   "execution_count": 50,
   "metadata": {},
   "outputs": [],
   "source": [
    "df.loc[cor.head(20).index].to_csv('negative.csv')"
   ]
  },
  {
   "cell_type": "code",
   "execution_count": null,
   "metadata": {},
   "outputs": [],
   "source": []
  }
 ],
 "metadata": {
  "kernelspec": {
   "display_name": "meth",
   "language": "python",
   "name": "meth"
  },
  "language_info": {
   "codemirror_mode": {
    "name": "ipython",
    "version": 3
   },
   "file_extension": ".py",
   "mimetype": "text/x-python",
   "name": "python",
   "nbconvert_exporter": "python",
   "pygments_lexer": "ipython3",
   "version": "3.9.7"
  }
 },
 "nbformat": 4,
 "nbformat_minor": 4
}
